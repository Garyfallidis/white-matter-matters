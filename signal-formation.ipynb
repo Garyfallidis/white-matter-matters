{
 "metadata": {
  "name": "",
  "signature": "sha256:eeacb4c2e24b2c76750ffe4587a28fac9b73d7d96943f0c4d6890e1ad1acf035"
 },
 "nbformat": 3,
 "nbformat_minor": 0,
 "worksheets": [
  {
   "cells": [
    {
     "cell_type": "code",
     "collapsed": false,
     "input": [
      "%pylab inline\n",
      "import IPython.html.widgets as wdg\n",
      "import IPython.display as display"
     ],
     "language": "python",
     "metadata": {},
     "outputs": [
      {
       "output_type": "stream",
       "stream": "stdout",
       "text": [
        "Populating the interactive namespace from numpy and matplotlib\n"
       ]
      }
     ],
     "prompt_number": 1
    },
    {
     "cell_type": "markdown",
     "metadata": {},
     "source": [
      "## The pulsed-gradient experiment: principles of dMRI signal formation\n",
      "\n",
      "Diffusion MRI is a non-invasive method to measure the location- and direction-specific diffusion of water in the human brain *in vivo*. The measurement is rendered sensitive to diffusion through an application of a pulsed gradient, which is why the experiment is sometimes described as a Pulsed-Gradient Spin-Echo (or PGSE) experiment. Between the two gradients, a diffusion time is set, allowing water molecules to diffuse. The experiment is usually described through a diffusion sensitization parameter, called the b-value (possibly because it was first calculated by the French MRI scientist Denis Le-Bihan). This parameter summarizes several parameters of the measurement:\n",
      "\n",
      "$b = \\gamma^2 g^2 \\delta ^2 (\\Delta - \\frac{\\delta}{3})$ \n",
      "\n",
      "$\\gamma$: the gyromagnetic ratio (42.576 $MHz$ for Hydrogen nuclei)\n",
      "\n",
      "$g$: The amplitude of the gradient pulses\n",
      "\n",
      "$\\delta$: Duration of each gradient pulse\n",
      "\n",
      "$\\Delta$: the diffusion time (time between the first and second pulse) \n",
      "\n",
      "Except for $\\gamma$, these are all experimentally controlled variables, so we can set the b value as we desire. The units of this quantity are typically reported in $\\frac{s}{mm^2}$"
     ]
    },
    {
     "cell_type": "markdown",
     "metadata": {},
     "source": [
      "Let's implement this as a function:"
     ]
    },
    {
     "cell_type": "code",
     "collapsed": false,
     "input": [
      "def b_value(g, delta, Delta, gamma=42.576):\n",
      "    \"\"\" \n",
      "    Calculate the b value\n",
      "    \n",
      "    Parameters\n",
      "    ----------\n",
      "    g : gradient strength (mT/m, typically around 40)\n",
      "    delta : gradient duration\n",
      "    Delta : diffusion duration\n",
      "    gamma : the gyromagnetic ration (42.576 MHz/T for Hydrogen)\n",
      "    \n",
      "    \"\"\"\n",
      "    G = g*1e-3*1e-6 #convert to T/um\n",
      "    gamma = 2*np.pi*gamma*1e6*1e-3 # convert to 1/ms/T (Hz = cycles/sec, 1 cycle = 2pi = 2pi/sec)\n",
      "    b = gamma ** 2 * G ** 2 * delta ** 2 * (Delta-delta/3) # millisecons/micrometer^2  \n",
      "    return 1000 * b #s/mm^2"
     ],
     "language": "python",
     "metadata": {},
     "outputs": [],
     "prompt_number": 2
    },
    {
     "cell_type": "markdown",
     "metadata": {},
     "source": [
      "In the PGSE diffusion sensitization leads to loss of signal with increased diffusivity. This loss of signal can be described through the Stejskal-Tanner equation: \n",
      "\n",
      "$S(b, D) = S_0 e ^{-bD}$ \n",
      "\n",
      "Where b is the aformentioned diffusion sensitization parameter, and D is the coefficient of diffusion of the water molecules within the measurement voxel (in units of $\\frac{mm^2}{s})$. When water is unrestricted, at 37$\\deg$ C, this coefficient is equal to approximately 3.0 $\\frac{mm^2}{s})$. This is the highest value we will ever see in the human brain, in the water-containing ventricles. Next, we will examine this equation: "
     ]
    },
    {
     "cell_type": "code",
     "collapsed": false,
     "input": [
      "def ST_equation(b, D, S0=1):\n",
      "    \"\"\" \n",
      "    The Stejskal Tanner equation\n",
      "    \"\"\"\n",
      "    return S0 * np.exp(-b * D)"
     ],
     "language": "python",
     "metadata": {},
     "outputs": [],
     "prompt_number": 3
    },
    {
     "cell_type": "code",
     "collapsed": false,
     "input": [
      "def viz_gradients(g = 40, delta = 13, Delta = 60):\n",
      "    S0 = 1\n",
      "    t = np.arange(0, 10 + delta + Delta + 10, 1) # In msec\n",
      "    grad = np.zeros(t.shape)\n",
      "    grad[np.where(np.logical_and(t>10, t<10 + delta))] = g\n",
      "    grad[np.where(np.logical_and((t>10 + Delta), t <(10+Delta + delta)))] = g\n",
      "    b = b_value(g, delta, Delta)\n",
      "    fig, ax = plt.subplots(1, 2, tight_layout=True)\n",
      "    ax[0].plot(t, grad)\n",
      "    ax[0].plot([10, 10+delta], [g+10, g+10],'k-')\n",
      "    ax[0].plot([10], [g+10],'k<')\n",
      "    ax[0].plot([10+delta], [g+10],'k>')\n",
      "    ax[0].text(10+delta/2., g+20, '$\\delta$')\n",
      "    ax[0].plot([10, 10+Delta], [g+40, g+40],'k-')\n",
      "    ax[0].plot([10], [g+40],'k<')\n",
      "    ax[0].plot([10+Delta], [g+40],'k>')\n",
      "    ax[0].text(10+Delta/2., g+60, '$\\Delta$')\n",
      "    \n",
      "    ax[0].plot([10+Delta+delta+5, 10+Delta+delta+5], [10, g],'k-')\n",
      "    ax[0].plot([10+Delta+delta+5], [10],'kv')\n",
      "    ax[0].plot([10+Delta+delta+5], [g],'k^')\n",
      "    ax[0].text(10+Delta+delta+5+5, g/2., 'g')\n",
      "    ax[0].set_ylabel('Gradient amplitude(mT/m)')\n",
      "    ax[0].set_xlabel('Time (msec)')\n",
      "    ax[0].set_xlim([-10, max(t) + 10])\n",
      "    ax[0].set_ylim([-10, 375])\n",
      "    D = np.arange(0, 4, 0.01)\n",
      "    ax[1].plot(D, ST_equation(b/1000., D, S0=S0))\n",
      "    ax[1].plot([3.0, 3.0], [0, S0], '--k')\n",
      "    ax[1].set_xlabel(r'D ($\\frac{mm^2}{s})$')\n",
      "    ax[1].set_ylabel('MRI signal')\n",
      "    ax[1].text(1, 0.8, 'b=%s'%int(b))"
     ],
     "language": "python",
     "metadata": {},
     "outputs": [],
     "prompt_number": 18
    },
    {
     "cell_type": "markdown",
     "metadata": {},
     "source": [
      "We will visualize the effect of "
     ]
    },
    {
     "cell_type": "code",
     "collapsed": false,
     "input": [
      "vg_widget = wdg.interactive(viz_gradients, \n",
      "                            g=wdg.FloatSliderWidget(min=10, max=300, step=10.0, value=40),\n",
      "                            delta=wdg.FloatSliderWidget(min=10, max=40, step=1.0, value=13),\n",
      "                            Delta=wdg.FloatSliderWidget(min=10, max=300, step=10.0, value=60)\n",
      "                            )\n",
      "display.display(vg_widget)"
     ],
     "language": "python",
     "metadata": {},
     "outputs": [
      {
       "metadata": {},
       "output_type": "display_data",
       "png": "[encoded data removed]",
       "text": [
        "<matplotlib.figure.Figure at 0x1062c7b90>"
       ]
      }
     ],
     "prompt_number": 19
    },
    {
     "cell_type": "markdown",
     "metadata": {},
     "source": [
      "**NOTE:** This picture is somewhat idealized and not entirely realistic. For example, gradients take some time to ramp up to their peak level and there are other experimental considerations to take into account when considering what the b-value would be. But the principles still hold."
     ]
    },
    {
     "cell_type": "code",
     "collapsed": false,
     "input": [
      "fig, ax = plt.subplots(1)\n",
      "D = np.arange(0, 4, 0.04)\n",
      "S0=1\n",
      "b=1000\n",
      "for b in [1000, 2000, 4000]:\n",
      "    ST = ST_equation(b/1000., D, S0=S0)\n",
      "    plot(D[:-1], -np.diff(ST), label='%s'%b)\n",
      "    plot([3.0, 3.0], [0, S0], '--k')\n",
      "    ax.set_xlabel(r'D ($\\frac{mm^2}{s})$')\n",
      "    ax.set_ylabel('$\\\\frac{\\delta S}{\\delta D} $')\n",
      "    ax.set_ylim([0,0.15])\n",
      "plt.legend()\n",
      "fig.savefig('/Users/arokem/Desktop/stejskal_tanner_eq.svg')"
     ],
     "language": "python",
     "metadata": {},
     "outputs": [
      {
       "metadata": {},
       "output_type": "display_data",
       "png": "[encoded data removed]",
       "text": [
        "<matplotlib.figure.Figure at 0x10659b6d0>"
       ]
      }
     ],
     "prompt_number": 54
    },
    {
     "cell_type": "code",
     "collapsed": false,
     "input": [],
     "language": "python",
     "metadata": {},
     "outputs": []
    }
   ],
   "metadata": {}
  }
 ]
}