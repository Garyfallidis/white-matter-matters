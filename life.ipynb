{
 "metadata": {
  "kernelspec": {
   "codemirror_mode": {
    "name": "python",
    "version": 3
   },
   "display_name": "Python 3",
   "language": "python",
   "name": "python3"
  },
  "name": "",
  "signature": "sha256:c9eaa4bf3cb9734eee2c0868dcf4c02fa05df46dfba7e278d923054224f303cf"
 },
 "nbformat": 3,
 "nbformat_minor": 0,
 "worksheets": [
  {
   "cells": [
    {
     "cell_type": "code",
     "collapsed": false,
     "input": [
      "import numpy as np\n",
      "import matplotlib as mpl \n",
      "import matplotlib.pyplot as plt\n",
      "import dipy.core.gradients as grad\n",
      "from dipy.tracking.eudx import EuDX\n",
      "import dipy.reconst.csdeconv as csd\n",
      "from dipy.reconst import peaks\n",
      "from dipy.tracking import utils\n",
      "from dipy.data import read_stanford_labels\n",
      "from dipy.viz import fvtk\n",
      "from dipy.viz.colormap import line_colors\n",
      "import scipy.io as sio\n",
      "\n",
      "import nibabel as nib\n",
      "import time\n",
      "\n",
      "%matplotlib inline"
     ],
     "language": "python",
     "metadata": {},
     "outputs": [],
     "prompt_number": 30
    },
    {
     "cell_type": "code",
     "collapsed": false,
     "input": [
      "# Download data (about 4GB: this might take some time...)\n",
      "try: #Python 3\n",
      "    import urllib.request as url\n",
      "except:\n",
      "    import urllib as url\n",
      "import os.path as op\n",
      "import os\n",
      "data_url = 'https://stacks.stanford.edu/file/druid:bb060nk0241/DiffusionData_Subject1.tar.gz'\n",
      "for i in range(2):\n",
      "    fname = './S1'\n",
      "    if not op.exists(fname):\n",
      "        url.urlretrieve(data_url)\n",
      "        os.system('tar -xvzf DiffusionData_Subject1.tar.gz')"
     ],
     "language": "python",
     "metadata": {},
     "outputs": [],
     "prompt_number": 2
    },
    {
     "cell_type": "code",
     "collapsed": false,
     "input": [
      "img = nib.load('S1/diffusion_raw/run01_aligned_trilin.nii.gz') \n",
      "gtab = grad.gradient_table('S1/diffusion_raw/run01_aligned_trilin.bvals', 'S1/diffusion_raw/run01_aligned_trilin.bvecs')\n",
      "data = img.get_data()"
     ],
     "language": "python",
     "metadata": {},
     "outputs": [],
     "prompt_number": 46
    },
    {
     "cell_type": "code",
     "collapsed": false,
     "input": [
      "affine = img.get_affine()"
     ],
     "language": "python",
     "metadata": {},
     "outputs": [],
     "prompt_number": 47
    },
    {
     "cell_type": "code",
     "collapsed": false,
     "input": [
      "wm_img = nib.load('S1/diffusion_dt6/1st/bin/wmMask.nii.gz')\n",
      "wm_data = wm_img.get_data()"
     ],
     "language": "python",
     "metadata": {},
     "outputs": [],
     "prompt_number": 4
    },
    {
     "cell_type": "code",
     "collapsed": false,
     "input": [
      "fig, ax = plt.subplots(1)\n",
      "ax.matshow(np.mean(data[..., ~gtab.b0s_mask], -1)[50,:,:], cmap=mpl.cm.bone)\n",
      "vol= np.ones_like(wm_data) * np.nan\n",
      "vol[wm_data==1] = 1\n",
      "ax.matshow(vol[50,:,:], cmap=mpl.cm.jet)\n",
      "\n",
      "#Indexer:\n",
      "white_matter = (wm_data == 1)"
     ],
     "language": "python",
     "metadata": {},
     "outputs": [
      {
       "metadata": {},
       "output_type": "pyout",
       "prompt_number": 12,
       "text": [
        "<matplotlib.image.AxesImage at 0x10906ac18>"
       ]
      },
      {
       "metadata": {},
       "output_type": "display_data",
       "png": "[encoded data removed]",
       "text": [
        "<matplotlib.figure.Figure at 0x10911def0>"
       ]
      }
     ],
     "prompt_number": 12
    },
    {
     "cell_type": "code",
     "collapsed": false,
     "input": [
      "response, ratio = csd.auto_response(gtab, data, roi_radius=10, fa_thr=0.7)"
     ],
     "language": "python",
     "metadata": {},
     "outputs": [],
     "prompt_number": 17
    },
    {
     "cell_type": "code",
     "collapsed": false,
     "input": [
      "response"
     ],
     "language": "python",
     "metadata": {},
     "outputs": [
      {
       "metadata": {},
       "output_type": "pyout",
       "prompt_number": 18,
       "text": [
        "(array([ 0.00128988,  0.00029723,  0.00029723]), 457.05818014705881)"
       ]
      }
     ],
     "prompt_number": 18
    },
    {
     "cell_type": "code",
     "collapsed": false,
     "input": [
      "csdmodel = csd.ConstrainedSphericalDeconvModel(gtab, response)\n",
      "csdpeaks = peaks.peaks_from_model(model=csdmodel,\n",
      "                                  data=data,\n",
      "                                  sphere=peaks.default_sphere,\n",
      "                                  relative_peak_threshold=.8,\n",
      "                                  min_separation_angle=45,\n",
      "                                  mask=white_matter)"
     ],
     "language": "python",
     "metadata": {},
     "outputs": [],
     "prompt_number": 19
    },
    {
     "cell_type": "code",
     "collapsed": false,
     "input": [
      "seeds = utils.seeds_from_mask(white_matter, density=2)"
     ],
     "language": "python",
     "metadata": {},
     "outputs": [],
     "prompt_number": 21
    },
    {
     "cell_type": "code",
     "collapsed": false,
     "input": [
      "streamline_generator = EuDX(csapeaks.peak_values, csapeaks.peak_indices,\n",
      "                            odf_vertices=peaks.default_sphere.vertices,\n",
      "                            a_low=.05, step_sz=.5, seeds=seeds)"
     ],
     "language": "python",
     "metadata": {},
     "outputs": [],
     "prompt_number": 22
    },
    {
     "cell_type": "code",
     "collapsed": false,
     "input": [
      "affine = streamline_generator.affine\n",
      "streamlines = list(streamline_generator)"
     ],
     "language": "python",
     "metadata": {},
     "outputs": [],
     "prompt_number": 23
    },
    {
     "cell_type": "code",
     "collapsed": false,
     "input": [
      "len(streamlines)"
     ],
     "language": "python",
     "metadata": {},
     "outputs": [
      {
       "metadata": {},
       "output_type": "pyout",
       "prompt_number": 24,
       "text": [
        "7451708"
       ]
      }
     ],
     "prompt_number": 24
    },
    {
     "cell_type": "code",
     "collapsed": false,
     "input": [
      "hdr = nib.trackvis.empty_header()\n",
      "hdr['voxel_size'] = img.get_header().get_zooms()[:3]\n",
      "hdr['voxel_order'] = 'LAS'\n",
      "hdr['dim'] = data.shape[:3]\n",
      "\n",
      "csd_streamlines_trk = ((sl, None, None) for sl in streamlines)\n",
      "\n",
      "csd_sl_fname = '/Users/arokem/Desktop/csd_streamline.trk'\n",
      "nib.trackvis.write(csd_sl_fname, csd_streamlines_trk, hdr, points_space='voxel')"
     ],
     "language": "python",
     "metadata": {},
     "outputs": []
    },
    {
     "cell_type": "code",
     "collapsed": false,
     "input": [
      "wp_lh1_matfile = 'S1/ROIs/Waypoint/LH_VOFPlane1.mat'\n",
      "wp_lh2_matfile = 'S1/ROIs/Waypoint/LH_VOFPlane2.mat'"
     ],
     "language": "python",
     "metadata": {},
     "outputs": [],
     "prompt_number": 86
    },
    {
     "cell_type": "code",
     "collapsed": false,
     "input": [
      "wp_lh1_mat = sio.loadmat(wp_lh1_matfile)\n",
      "wp_lh2_mat = sio.loadmat(wp_lh2_matfile)"
     ],
     "language": "python",
     "metadata": {},
     "outputs": [],
     "prompt_number": 87
    },
    {
     "cell_type": "code",
     "collapsed": false,
     "input": [
      "wp_lh1 = wp_lh1_mat['roi'][0,0].item()[2]\n",
      "wp_lh2 = wp_lh2_mat['roi'][0,0].item()[2]"
     ],
     "language": "python",
     "metadata": {},
     "outputs": [],
     "prompt_number": 88
    },
    {
     "cell_type": "code",
     "collapsed": false,
     "input": [],
     "language": "python",
     "metadata": {},
     "outputs": [],
     "prompt_number": 88
    },
    {
     "cell_type": "code",
     "collapsed": false,
     "input": [
      "def xform_to(arr, affine):\n",
      "    inv_affine = np.linalg.inv(affine)    \n",
      "    return (np.dot(arr, inv_affine[:3, :3]) + inv_affine[:3, 3]).astype(int)"
     ],
     "language": "python",
     "metadata": {},
     "outputs": [],
     "prompt_number": 89
    },
    {
     "cell_type": "code",
     "collapsed": false,
     "input": [
      "wp_lh1_vol = xform_to(wp_lh1, affine) \n",
      "wp_lh2_vol = xform_to(wp_lh2, affine) "
     ],
     "language": "python",
     "metadata": {},
     "outputs": [],
     "prompt_number": 90
    },
    {
     "cell_type": "code",
     "collapsed": false,
     "input": [
      "fig, ax = plt.subplots(1)\n",
      "i = 30\n",
      "ax.matshow(np.mean(data[..., ~gtab.b0s_mask], -1)[i,:,:], cmap=mpl.cm.bone)\n",
      "vol= np.ones_like(wm_data) * np.nan\n",
      "vol[wp_lh1_vol[:, 0], wp_lh1_vol[:, 1], wp_lh1_vol[:, 2]] = 1\n",
      "vol[wp_lh2_vol[:, 0], wp_lh2_vol[:, 1], wp_lh2_vol[:, 2]] = 1\n",
      "ax.matshow(vol[i,:,:], cmap=mpl.cm.jet)"
     ],
     "language": "python",
     "metadata": {},
     "outputs": [
      {
       "metadata": {},
       "output_type": "pyout",
       "prompt_number": 91,
       "text": [
        "<matplotlib.image.AxesImage at 0x142044f60>"
       ]
      },
      {
       "metadata": {},
       "output_type": "display_data",
       "png": "[encoded data removed]",
       "text": [
        "<matplotlib.figure.Figure at 0x141feecf8>"
       ]
      }
     ],
     "prompt_number": 91
    },
    {
     "cell_type": "code",
     "collapsed": false,
     "input": [
      "vof_candidates = utils.target(streamlines, vol, affine=np.eye(4))\n",
      "vof_candidates = list(vof_candidates)"
     ],
     "language": "python",
     "metadata": {},
     "outputs": [
      {
       "ename": "KeyboardInterrupt",
       "evalue": "",
       "output_type": "pyerr",
       "traceback": [
        "\u001b[0;31m---------------------------------------------------------------------------\u001b[0m",
        "\u001b[0;31mKeyboardInterrupt\u001b[0m                         Traceback (most recent call last)",
        "\u001b[0;32m<ipython-input-96-8005639a7888>\u001b[0m in \u001b[0;36m<module>\u001b[0;34m()\u001b[0m\n\u001b[1;32m      1\u001b[0m \u001b[0mvof_candidates\u001b[0m \u001b[0;34m=\u001b[0m \u001b[0mutils\u001b[0m\u001b[0;34m.\u001b[0m\u001b[0mtarget\u001b[0m\u001b[0;34m(\u001b[0m\u001b[0mstreamlines\u001b[0m\u001b[0;34m,\u001b[0m \u001b[0mvol\u001b[0m\u001b[0;34m,\u001b[0m \u001b[0maffine\u001b[0m\u001b[0;34m=\u001b[0m\u001b[0mnp\u001b[0m\u001b[0;34m.\u001b[0m\u001b[0meye\u001b[0m\u001b[0;34m(\u001b[0m\u001b[0;36m4\u001b[0m\u001b[0;34m)\u001b[0m\u001b[0;34m)\u001b[0m\u001b[0;34m\u001b[0m\u001b[0m\n\u001b[0;32m----> 2\u001b[0;31m \u001b[0mvof_candidates\u001b[0m \u001b[0;34m=\u001b[0m \u001b[0mlist\u001b[0m\u001b[0;34m(\u001b[0m\u001b[0mvof_candidates\u001b[0m\u001b[0;34m)\u001b[0m\u001b[0;34m\u001b[0m\u001b[0m\n\u001b[0m",
        "\u001b[0;32m/Users/arokem/usr/local/lib/python3.4/site-packages/dipy/tracking/utils.py\u001b[0m in \u001b[0;36mtarget\u001b[0;34m(streamlines, target_mask, affine, include)\u001b[0m\n\u001b[1;32m    478\u001b[0m             \u001b[0mind\u001b[0m \u001b[0;34m=\u001b[0m \u001b[0m_to_voxel_coordinates\u001b[0m\u001b[0;34m(\u001b[0m\u001b[0msl\u001b[0m\u001b[0;34m,\u001b[0m \u001b[0mlin_T\u001b[0m\u001b[0;34m,\u001b[0m \u001b[0moffset\u001b[0m\u001b[0;34m)\u001b[0m\u001b[0;34m\u001b[0m\u001b[0m\n\u001b[1;32m    479\u001b[0m             \u001b[0mi\u001b[0m\u001b[0;34m,\u001b[0m \u001b[0mj\u001b[0m\u001b[0;34m,\u001b[0m \u001b[0mk\u001b[0m \u001b[0;34m=\u001b[0m \u001b[0mind\u001b[0m\u001b[0;34m.\u001b[0m\u001b[0mT\u001b[0m\u001b[0;34m\u001b[0m\u001b[0m\n\u001b[0;32m--> 480\u001b[0;31m             \u001b[0mstate\u001b[0m \u001b[0;34m=\u001b[0m \u001b[0mtarget_mask\u001b[0m\u001b[0;34m[\u001b[0m\u001b[0mi\u001b[0m\u001b[0;34m,\u001b[0m \u001b[0mj\u001b[0m\u001b[0;34m,\u001b[0m \u001b[0mk\u001b[0m\u001b[0;34m]\u001b[0m\u001b[0;34m\u001b[0m\u001b[0m\n\u001b[0m\u001b[1;32m    481\u001b[0m         \u001b[0;32mexcept\u001b[0m \u001b[0mIndexError\u001b[0m\u001b[0;34m:\u001b[0m\u001b[0;34m\u001b[0m\u001b[0m\n\u001b[1;32m    482\u001b[0m             \u001b[0;32mraise\u001b[0m \u001b[0mValueError\u001b[0m\u001b[0;34m(\u001b[0m\u001b[0;34m\"streamlines points are outside of target_mask\"\u001b[0m\u001b[0;34m)\u001b[0m\u001b[0;34m\u001b[0m\u001b[0m\n",
        "\u001b[0;31mKeyboardInterrupt\u001b[0m: "
       ]
      }
     ],
     "prompt_number": 96
    },
    {
     "cell_type": "code",
     "collapsed": false,
     "input": [],
     "language": "python",
     "metadata": {},
     "outputs": []
    },
    {
     "cell_type": "code",
     "collapsed": false,
     "input": [
      "len(cc_streamlines)"
     ],
     "language": "python",
     "metadata": {},
     "outputs": [
      {
       "metadata": {},
       "output_type": "pyout",
       "prompt_number": 6,
       "text": [
        "100065"
       ]
      }
     ],
     "prompt_number": 6
    },
    {
     "cell_type": "code",
     "collapsed": false,
     "input": [],
     "language": "python",
     "metadata": {},
     "outputs": [],
     "prompt_number": 14
    },
    {
     "cell_type": "code",
     "collapsed": false,
     "input": [
      "import dipy.tracking.life as life\n",
      "reload(life)"
     ],
     "language": "python",
     "metadata": {},
     "outputs": [
      {
       "metadata": {},
       "output_type": "pyout",
       "prompt_number": 15,
       "text": [
        "<module 'dipy.tracking.life' from '/Users/arokem/usr/local/lib/python2.7/site-packages/dipy/tracking/life.pyc'>"
       ]
      }
     ],
     "prompt_number": 15
    },
    {
     "cell_type": "code",
     "collapsed": false,
     "input": [
      "%%time\n",
      "FM1 = life.FiberModel(gtab)"
     ],
     "language": "python",
     "metadata": {},
     "outputs": [
      {
       "output_type": "stream",
       "stream": "stdout",
       "text": [
        "CPU times: user 12 \u00b5s, sys: 3 \u00b5s, total: 15 \u00b5s\n",
        "Wall time: 18.1 \u00b5s\n"
       ]
      }
     ],
     "prompt_number": 16
    },
    {
     "cell_type": "code",
     "collapsed": false,
     "input": [
      "some_streamlines = cc_streamlines[:1000]"
     ],
     "language": "python",
     "metadata": {},
     "outputs": []
    },
    {
     "cell_type": "code",
     "collapsed": false,
     "input": [
      "timing = []\n",
      "sl_numbers = [10, 100, 1000, 10000, 100000]\n",
      "for n in sl_numbers:\n",
      "    some_streamlines = streamlines[:n]\n",
      "    t1 = time.time()\n",
      "    FF1 = FM1.setup(some_streamlines, np.eye(4))\n",
      "    t2 = time.time()\n",
      "    timing.append(t2-t1)"
     ],
     "language": "python",
     "metadata": {},
     "outputs": []
    },
    {
     "cell_type": "code",
     "collapsed": false,
     "input": [
      "plt.plot(sl_numbers, timing, 'o')\n",
      "plt.loglog()"
     ],
     "language": "python",
     "metadata": {},
     "outputs": []
    },
    {
     "cell_type": "code",
     "collapsed": false,
     "input": [
      "timing"
     ],
     "language": "python",
     "metadata": {},
     "outputs": [
      {
       "metadata": {},
       "output_type": "pyout",
       "prompt_number": 26,
       "text": [
        "[0.238447904586792, 2.697704792022705, 40.15247321128845, 960.568813085556]"
       ]
      }
     ],
     "prompt_number": 26
    },
    {
     "cell_type": "code",
     "collapsed": false,
     "input": [
      "500000/60."
     ],
     "language": "python",
     "metadata": {},
     "outputs": [
      {
       "metadata": {},
       "output_type": "pyout",
       "prompt_number": 34,
       "text": [
        "8333.333333333334"
       ]
      }
     ],
     "prompt_number": 34
    },
    {
     "cell_type": "code",
     "collapsed": false,
     "input": [
      "FF1 = FM1."
     ],
     "language": "python",
     "metadata": {},
     "outputs": []
    },
    {
     "cell_type": "code",
     "collapsed": false,
     "input": [
      "plt.plot(FF1.predict()[3])\n",
      "plt.plot(FF1.data[3])"
     ],
     "language": "python",
     "metadata": {},
     "outputs": []
    },
    {
     "cell_type": "code",
     "collapsed": false,
     "input": [
      "nz = FF1.beta>0"
     ],
     "language": "python",
     "metadata": {},
     "outputs": [],
     "prompt_number": 28
    },
    {
     "cell_type": "code",
     "collapsed": false,
     "input": [
      "np.sum(nz)"
     ],
     "language": "python",
     "metadata": {},
     "outputs": [
      {
       "metadata": {},
       "output_type": "pyout",
       "prompt_number": 30,
       "text": [
        "2190"
       ]
      }
     ],
     "prompt_number": 30
    },
    {
     "cell_type": "code",
     "collapsed": false,
     "input": [],
     "language": "python",
     "metadata": {},
     "outputs": []
    }
   ],
   "metadata": {}
  }
 ]
}