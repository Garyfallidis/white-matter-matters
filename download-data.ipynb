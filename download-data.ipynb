{
 "metadata": {
  "name": "",
  "signature": "sha256:f94972d50dfb6e71ed95aa24dfe4860cc855769f0350f5947575a286791c8ec5"
 },
 "nbformat": 3,
 "nbformat_minor": 0,
 "worksheets": [
  {
   "cells": [
    {
     "cell_type": "markdown",
     "metadata": {},
     "source": [
      "## Diffusion MRI Data \n",
      "\n",
      "In this notebook, we will download some diffusion data from the Stanford Digital Repository. \n",
      "\n",
      "This is a test-retest data-set with high angular resolution diffusion imaging (HARDI), collected at 2 mm isotropic resolution, also used in Rokem et al. [1], Pestilli et al. [2]. \n",
      "\n",
      "The subject was a healthy male participants, age 37. The experimental procedures were approved by the Stanford University Institutional Review Board and the participant provided informed consent. Diffusion-weighted MRI data were collected at Stanford's Center for Cognitive and Neurobiological Imaging on a 3T GE Discovery MR750 MRI system. A 32-channel head coil was used. In each scan MR images were acquired with a dual spin echo diffusion-weighted sequence for 150 different directions of diffusion-weighting, determined by an electro-static repulsion algorithm [3]. The spatial resolution of the measurement was 2x2x2 mm. The b-value was set to 2000 s/mm2 with TE of 93.6 msec. 10 non-diffusion weighted images (b0) were acquired at the beginning of each scan and two separate scans were performed in close succession. Segmentation of different types of tissue was performed on high-resolution T1-weighted image. Two FSPGR images were acquired at 0.7x0.7x0.7 mm resolution and averaged to increase SNR of tissue contrast. An initial segmentation was performed using Freesurfer[4] and additional manual editing of the segmentation was then performed using itkgray [5]. MR images were motion corrected to the average b0 image in each scan, using a rigid body alignment algorithm, implemented in SPM (http://www.fil.ion.ucl.ac.uk/spm/). The direction of the diffusion-gradient in each diffusion-weighted volume was corrected using the rotation parameters from the motion correction procedure. Because of the relatively long duration between the RF excitation and image acquisition in the dual-spin echo sequence used, there is sufficient time for eddy currents to subside. Hence, eddy current correction was not applied. All pre-processing steps have been implemented in Matlab as part of the mrVista software distribution [6], which can be downloaded at http://github.com/vistalab/vistasoft\n",
      "\n",
      "[1] Rokem, A., Yeatman, J.D., Pestilli, F., Kay, K.N., Mezer A., van der Walt, S., and Wandell, B.A. (2014). Evaluating the accuracy of diffusion MRI models in the white matter. \n",
      "[2] Pestilli, F., Yeatman, J.D., Rokem, A., Kay K.N., and Wandell B.A. (2014). Evaluation and statistical inference for human connectomes. Nat Meth 11: 1058-1063. \n",
      "[3] Jones, Horsfield, & Simmons, 1999. \n",
      "[4] Dale AM, Fischl B, Sereno MI (1999): Cortical Surface-Based Analysis. Neuroimage 194:179\u2013194.\n",
      "[5] Yushkevich P A, Piven J, Hazlett HC, Smith RG, Ho S, Gee JC, Gerig G (2006): User-guided 3D active contour segmentation of anatomical structures: significantly improved efficiency and reliability. Neuroimage 31:1116\u201328. \n",
      "[6] Dougherty RF, Ben-Shachar M, Bammer R, Brewer AA, Wandell BA (2005): Functional organization of human occipital-callosal fiber tracts. Proc Natl Acad Sci U S A 102:7350\u20137355. "
     ]
    },
    {
     "cell_type": "code",
     "collapsed": false,
     "input": [
      "import urllib as url\n",
      "import os.path as op\n",
      "top_url = 'https://stacks.stanford.edu/file/druid:ng782rw8378/'\n",
      "for i in range(2):\n",
      "    for ext in ['.nii.gz', '.bvecs', '.bvals']:\n",
      "        fname = 'SUB1_b2000_%s%s'%(i+1, ext)\n",
      "        if not op.exists(fname):\n",
      "            url.urlretrieve(op.join(top_url, fname), fname)"
     ],
     "language": "python",
     "metadata": {},
     "outputs": [],
     "prompt_number": 1
    }
   ],
   "metadata": {}
  }
 ]
}