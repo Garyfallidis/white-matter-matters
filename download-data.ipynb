{
 "metadata": {
  "kernelspec": {
   "codemirror_mode": {
    "name": "python",
    "version": 2
   },
   "display_name": "Python 2",
   "language": "python",
   "name": "python2"
  },
  "name": "",
  "signature": "sha256:e3a505c1882f42725d071e75be612c2e688b2ca286e0f9256837b0b7939b4502"
 },
 "nbformat": 3,
 "nbformat_minor": 0,
 "worksheets": [
  {
   "cells": [
    {
     "cell_type": "markdown",
     "metadata": {},
     "source": [
      "## Diffusion MRI Data \n",
      "\n",
      "In this notebook, we will download some diffusion data from the Stanford Digital Repository. This is a data-set with high angular resolution diffusion imaging (HARDI), collected at 2 mm isotropic resolution, with test-retest reliability,\n",
      "\n",
      "For further experimental details, see Rokem et al. [1], Pestilli et al. [2]. \n",
      "\n",
      "References: \n",
      "\n",
      "[1] \n",
      "[2] "
     ]
    },
    {
     "cell_type": "code",
     "collapsed": false,
     "input": [
      "import urllib as url\n",
      "import os.path as op\n",
      "top_url = 'https://stacks.stanford.edu/file/druid:ng782rw8378/'\n",
      "for i in range(2):\n",
      "    for ext in ['.nii.gz', '.bvecs', '.bvals']:\n",
      "        fname = 'SUB1_b2000_%s%s'%(i+1, ext)\n",
      "        if not op.exists(fname):\n",
      "            url.urlretrieve(op.join(top_url, fname), fname)"
     ],
     "language": "python",
     "metadata": {},
     "outputs": [],
     "prompt_number": 1
    },
    {
     "cell_type": "code",
     "collapsed": false,
     "input": [],
     "language": "python",
     "metadata": {},
     "outputs": []
    }
   ],
   "metadata": {}
  }
 ]
}