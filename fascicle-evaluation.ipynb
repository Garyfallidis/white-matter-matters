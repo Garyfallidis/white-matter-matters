{
 "metadata": {
  "name": "",
  "signature": "sha256:5d6cbdb4311c55ed0f943c36904fe72fdc195ad3ff4e7189d3a5910c0290f8a4"
 },
 "nbformat": 3,
 "nbformat_minor": 0,
 "worksheets": [
  {
   "cells": [
    {
     "cell_type": "code",
     "collapsed": false,
     "input": [
      "import run_notebook"
     ],
     "language": "python",
     "metadata": {},
     "outputs": [],
     "prompt_number": 1
    },
    {
     "cell_type": "code",
     "collapsed": false,
     "input": [
      "import os.path as op"
     ],
     "language": "python",
     "metadata": {},
     "outputs": [],
     "prompt_number": 2
    },
    {
     "cell_type": "markdown",
     "metadata": {},
     "source": [
      "To evaluate a tractography, we need to first have a tractography solution on our hands. If you haven't yet run the [probabilistic tractography notebook](prob_track.ipynb), the following cell will run that notebook for you and generate a file with a set of streamlines in it. This could take a little while, so go get a cup of coffee while this runs."
     ]
    },
    {
     "cell_type": "code",
     "collapsed": false,
     "input": [
      "if not op.exists('./prob-track.trk'):\n",
      "    run_notebook.run_notebook(run_notebook.reads(file('./prob_track.ipynb').read(), 'json'))"
     ],
     "language": "python",
     "metadata": {},
     "outputs": []
    },
    {
     "cell_type": "code",
     "collapsed": false,
     "input": [
      "import numpy as np\n",
      "import nibabel as nib\n",
      "import matplotlib.pyplot as plt\n",
      "%matplotlib inline\n",
      "\n",
      "import dipy.core.gradients as grad\n",
      "from dipy.data import get_sphere\n",
      "from dipy.reconst.csdeconv import auto_response\n",
      "from dipy.reconst import sfm\n",
      "from dipy.io.trackvis import save_trk\n",
      "\n",
      "from IPython.display import display, Image\n",
      "\n",
      "from dipy.data import (read_stanford_labels,\n",
      "                       fetch_stanford_t1,\n",
      "                       read_stanford_t1)"
     ],
     "language": "python",
     "metadata": {},
     "outputs": []
    },
    {
     "cell_type": "code",
     "collapsed": false,
     "input": [
      "dwi_ni = nib.load('./data/SUB1_b2000_1.nii.gz')\n",
      "data = dwi_ni.get_data()\n",
      "affine = dwi_ni.get_affine()\n",
      "gtab = grad.gradient_table('./data/SUB1_b2000_1.bvals', './data/SUB1_b2000_1.bvecs')"
     ],
     "language": "python",
     "metadata": {},
     "outputs": []
    },
    {
     "cell_type": "code",
     "collapsed": false,
     "input": [
      "response, ratio = auto_response(gtab, data, roi_radius=10, fa_thr=0.7)"
     ],
     "language": "python",
     "metadata": {},
     "outputs": []
    },
    {
     "cell_type": "code",
     "collapsed": false,
     "input": [
      "candidate_sl = [s[0] for s in nib.trackvis.read('./prob-track.trk', points_space='voxel')[0]]\n"
     ],
     "language": "python",
     "metadata": {},
     "outputs": []
    },
    {
     "cell_type": "code",
     "collapsed": false,
     "input": [
      "import dipy.tracking.life as life\n",
      "fiber_model = life.FiberModel(gtab)"
     ],
     "language": "python",
     "metadata": {},
     "outputs": []
    },
    {
     "cell_type": "code",
     "collapsed": false,
     "input": [
      "fiber_fit = fiber_model.fit(data, candidate_sl, affine=np.eye(4))"
     ],
     "language": "python",
     "metadata": {},
     "outputs": []
    },
    {
     "cell_type": "code",
     "collapsed": false,
     "input": [
      "fig = plt.hist(fiber_fit.beta, bins=100, histtype='step')"
     ],
     "language": "python",
     "metadata": {},
     "outputs": []
    },
    {
     "cell_type": "code",
     "collapsed": false,
     "input": [
      "optimizied_sl = list(np.array(candidate_sl)[np.where(fiber_fit.beta>0)[0]])"
     ],
     "language": "python",
     "metadata": {},
     "outputs": []
    },
    {
     "cell_type": "markdown",
     "metadata": {},
     "source": [
      "What proportion of the streamlines survived this culling?"
     ]
    },
    {
     "cell_type": "code",
     "collapsed": false,
     "input": [
      "len(optimizied_sl)/float(len(candidate_sl))"
     ],
     "language": "python",
     "metadata": {},
     "outputs": []
    },
    {
     "cell_type": "code",
     "collapsed": false,
     "input": [
      "from dipy.viz import fvtk\n",
      "from dipy.viz.colormap import line_colors\n",
      "from dipy.data import read_stanford_t1\n",
      "from dipy.tracking.utils import move_streamlines\n",
      "from numpy.linalg import inv\n",
      "t1 = read_stanford_t1()\n",
      "t1_data = t1.get_data()\n",
      "t1_aff = t1.get_affine()"
     ],
     "language": "python",
     "metadata": {},
     "outputs": []
    },
    {
     "cell_type": "code",
     "collapsed": false,
     "input": [
      "streamlines_actor = fvtk.streamtube(optimizied_sl,line_colors(optimizied_sl))"
     ],
     "language": "python",
     "metadata": {},
     "outputs": []
    },
    {
     "cell_type": "code",
     "collapsed": false,
     "input": [
      "vol_actor = fvtk.slicer(t1_data, voxsz=(1.0, 1.0, 1.0), plane_i=[40],\n",
      "                        plane_j=None, plane_k=[25], outline=False)\n",
      "\n",
      "ren = fvtk.ren()\n",
      "fvtk.add(ren, streamlines_actor)\n",
      "fvtk.add(ren, vol_actor)\n",
      "fvtk.camera(ren, viewup=(1,0,1), verbose=False)\n",
      "fvtk.record(ren, out_path='./life-prob-track.png', size=(600,600))"
     ],
     "language": "python",
     "metadata": {},
     "outputs": []
    },
    {
     "cell_type": "code",
     "collapsed": false,
     "input": [
      "display(Image(filename='./life-prob-track.png'))"
     ],
     "language": "python",
     "metadata": {},
     "outputs": []
    },
    {
     "cell_type": "code",
     "collapsed": false,
     "input": [],
     "language": "python",
     "metadata": {},
     "outputs": []
    }
   ],
   "metadata": {}
  }
 ]
}