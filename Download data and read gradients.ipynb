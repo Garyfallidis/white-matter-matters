{
 "metadata": {
  "name": "",
  "signature": "sha256:27f33dee33709ae724c5b9b40e62642f3337ec6e6d9df8ebe3f8df78fb5f7b96"
 },
 "nbformat": 3,
 "nbformat_minor": 0,
 "worksheets": [
  {
   "cells": [
    {
     "cell_type": "code",
     "collapsed": false,
     "input": [
      "from dipy.data import fetch_sherbrooke_3shell\n",
      "result = fetch_sherbrooke_3shell()"
     ],
     "language": "python",
     "metadata": {},
     "outputs": [
      {
       "output_type": "stream",
       "stream": "stdout",
       "text": [
        "Dataset is already in place. If you want to fetch it again please first remove the folder /home/eleftherios/.dipy/sherbrooke_3shell \n"
       ]
      }
     ],
     "prompt_number": 3
    },
    {
     "cell_type": "code",
     "collapsed": false,
     "input": [],
     "language": "python",
     "metadata": {},
     "outputs": []
    }
   ],
   "metadata": {}
  }
 ]
}