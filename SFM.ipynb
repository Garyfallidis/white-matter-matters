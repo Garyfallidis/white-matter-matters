{
 "metadata": {
  "name": "",
  "signature": "sha256:a0e0be0ba8a01b119128f7a31a094426c321851dbf314597261cd61e1c7ba00a"
 },
 "nbformat": 3,
 "nbformat_minor": 0,
 "worksheets": [
  {
   "cells": [
    {
     "cell_type": "markdown",
     "metadata": {},
     "source": [
      "# Sparse fascicle models\n",
      "\n",
      "Another flavor of models aims to describe the diffusion signal as a combination of signals emanating from individual populations of fibers"
     ]
    },
    {
     "cell_type": "code",
     "collapsed": false,
     "input": [],
     "language": "python",
     "metadata": {},
     "outputs": []
    }
   ],
   "metadata": {}
  }
 ]
}