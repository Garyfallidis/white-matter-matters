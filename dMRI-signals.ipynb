{
 "metadata": {
  "kernelspec": {
   "codemirror_mode": {
    "name": "python",
    "version": 2
   },
   "display_name": "Python 2",
   "language": "python",
   "name": "python2"
  },
  "name": "",
  "signature": "sha256:15c98729e93115898bfa48408050d82f38c23df135b808d74e0922720d3939da"
 },
 "nbformat": 3,
 "nbformat_minor": 0,
 "worksheets": [
  {
   "cells": [
    {
     "cell_type": "markdown",
     "metadata": {},
     "source": [
      "## Diffusion MRI - the signal\n",
      "\n",
      "In this notebook, we examine the diffusion MRI signal. We will load some data, and look at characteristics of the signal. \n",
      "\n",
      "First, let's import some of the elements we will need. The following cell initializes the `pylab` mode of the notebook:"
     ]
    },
    {
     "cell_type": "code",
     "collapsed": false,
     "input": [
      "%pylab inline"
     ],
     "language": "python",
     "metadata": {},
     "outputs": []
    },
    {
     "cell_type": "code",
     "collapsed": false,
     "input": [
      "import urllib as url\n",
      "import nibabel as nib\n",
      "import os.path as op\n",
      "from mpl_toolkits.mplot3d import Axes3D\n",
      "import IPython.html.widgets as wdg\n",
      "import IPython.display as display\n",
      "from matplotlib.patches import FancyArrowPatch\n",
      "from mpl_toolkits.mplot3d import proj3d\n",
      "import dipy.core.geometry as geo"
     ],
     "language": "python",
     "metadata": {},
     "outputs": []
    },
    {
     "cell_type": "markdown",
     "metadata": {},
     "source": [
      "### Downloading example data:"
     ]
    },
    {
     "cell_type": "markdown",
     "metadata": {},
     "source": [
      "Next, let's download some data. We'll run the notebook [download-data.ipynb](download-data.ipynb), which downloads data from the Stanford Data Repository, in case it's not already there. We run this as system call"
     ]
    },
    {
     "cell_type": "code",
     "collapsed": false,
     "input": [
      "!./run_notebook.py ./download-data.ipynb"
     ],
     "language": "python",
     "metadata": {},
     "outputs": []
    },
    {
     "cell_type": "code",
     "collapsed": false,
     "input": [
      "bvecs = np.loadtxt('./SUB1_b2000_1.bvecs')"
     ],
     "language": "python",
     "metadata": {},
     "outputs": []
    },
    {
     "cell_type": "code",
     "collapsed": false,
     "input": [
      "ni = nib.load('SUB1_b2000_1.nii.gz')\n",
      "data = ni.get_data()"
     ],
     "language": "python",
     "metadata": {},
     "outputs": []
    },
    {
     "cell_type": "code",
     "collapsed": false,
     "input": [
      "class Arrow3D(FancyArrowPatch):\n",
      "    def __init__(self, xs, ys, zs, *args, **kwargs):\n",
      "        FancyArrowPatch.__init__(self, (0,0), (0,0), *args, **kwargs)\n",
      "        self._verts3d = xs, ys, zs\n",
      "\n",
      "    def draw(self, renderer):\n",
      "        xs3d, ys3d, zs3d = self._verts3d\n",
      "        xs, ys, zs = proj3d.proj_transform(xs3d, ys3d, zs3d, renderer.M)\n",
      "        self.set_positions((xs[0],ys[0]),(xs[1],ys[1]))\n",
      "        FancyArrowPatch.draw(self, renderer)\n",
      "\n",
      "\n",
      "def plot_bvecs(elev=45, azim=45, x=40, y=50, z=35):\n",
      "    this_vec = geo.sphere2cart(1, np.deg2rad(elev), np.deg2rad(azim))\n",
      "    angles = np.arccos(np.dot(this_vec, bvecs[:, 10:]))\n",
      "    closest = np.argmin(angles)\n",
      "    n = closest + 10\n",
      "    fig = plt.figure()\n",
      "    #ax = fig.add_subplot(221, projection='3d')\n",
      "    #a = Arrow3D([0, bvecs[0][n]],[0,bvecs[1][n]],[0,bvecs[2][n]], mutation_scale=20, lw=1, arrowstyle=\"-|>\", color=\"k\")\n",
      "    ax = fig.add_subplot(221)\n",
      "    a = ax.arrow(0,0, bvecs[1][n], bvecs[0][n], linewidth=4, width=0.005, color=[np.abs(bvecs[0][n]), np.abs(bvecs[1][n]), \n",
      "                                                                    np.abs(bvecs[2][n])])\n",
      "    ax.set_xlim([-1.4, 1.4])\n",
      "    ax.set_ylim([-1.4, 1.4])\n",
      "    #ax.add_artist(a)\n",
      "    ax.axis('off')\n",
      "    #for set_lim in [ax.set_xlim, ax.set_ylim, ax.set_zlim]:\n",
      "    #    set_lim([-1,1])\n",
      "    ax = fig.add_subplot(222)\n",
      "    ax.arrow(2,2,0,10, linewidth=4, width=0.1, color='r')\n",
      "    ax.arrow(2,2,10,0, linewidth=4, width=0.1, color='g')\n",
      "    ax.matshow(data[:, :, z, n], cmap=matplotlib.cm.bone)\n",
      "    ax.axis('off')\n",
      "    ax = fig.add_subplot(223)\n",
      "    ax.axis('off')\n",
      "    ax.arrow(2,2,0,10, linewidth=4, width=0.1, color='b')\n",
      "    ax.arrow(2,2,10,0, linewidth=4, width=0.1, color='r')\n",
      "    ax.matshow(np.rot90(data[:, y, :, n]), cmap=matplotlib.cm.bone)\n",
      "    ax = fig.add_subplot(224)\n",
      "    ax.axis('off')\n",
      "    ax.arrow(2,2,0,10, linewidth=4, width=0.1, color='b')\n",
      "    ax.arrow(2,2,10,0, linewidth=4, width=0.1, color='g')\n",
      "    ax.matshow(np.rot90(data[x, :, :, n]), cmap=matplotlib.cm.bone)\n",
      "    fig.set_size_inches(10, 10)\n",
      "    plt.show()\n",
      "    return fig\n",
      "    "
     ],
     "language": "python",
     "metadata": {},
     "outputs": []
    },
    {
     "cell_type": "code",
     "collapsed": false,
     "input": [
      "pb_widget = wdg.interactive(plot_bvecs, \n",
      "                            elev=wdg.FloatSliderWidget(min=-180, max=180, step=1.0),\n",
      "                            azim=wdg.FloatSliderWidget(min=-180, max=180, step=1.0, value=90),\n",
      "                            x=wdg.IntSliderWidget(min=1, max=data.shape[0], value=data.shape[0]//2),\n",
      "                            y=wdg.IntSliderWidget(min=1, max=data.shape[1], value=data.shape[1]//2),\n",
      "                            z=wdg.IntSliderWidget(min=1, max=data.shape[2], value=data.shape[2]//2)\n",
      "                            )\n",
      "display.display(pb_widget)"
     ],
     "language": "python",
     "metadata": {},
     "outputs": []
    },
    {
     "cell_type": "code",
     "collapsed": false,
     "input": [],
     "language": "python",
     "metadata": {},
     "outputs": []
    }
   ],
   "metadata": {}
  }
 ]
}