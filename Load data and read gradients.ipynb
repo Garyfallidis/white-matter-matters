{
 "metadata": {
  "name": "",
  "signature": "sha256:d550552b1a5f561d0b8d839c31cc51b8822ea1be9d88c27390a1686627014949"
 },
 "nbformat": 3,
 "nbformat_minor": 0,
 "worksheets": [
  {
   "cells": [
    {
     "cell_type": "code",
     "collapsed": false,
     "input": [
      "from dipy.data import fetch_sherbrooke_3shell\n",
      "fetch_sherbrooke_3shell()"
     ],
     "language": "python",
     "metadata": {},
     "outputs": [
      {
       "output_type": "stream",
       "stream": "stdout",
       "text": [
        "Dataset is already in place. If you want to fetch it again, please first remove the folder /home/eleftherios/.dipy/sherbrooke_3shell \n"
       ]
      }
     ],
     "prompt_number": 1
    },
    {
     "cell_type": "code",
     "collapsed": false,
     "input": [
      "cd /home/eleftherios/.dipy/sherbrooke_3shell/"
     ],
     "language": "python",
     "metadata": {},
     "outputs": [
      {
       "output_type": "stream",
       "stream": "stdout",
       "text": [
        "/home/eleftherios/.dipy/sherbrooke_3shell\n"
       ]
      }
     ],
     "prompt_number": 3
    },
    {
     "cell_type": "code",
     "collapsed": false,
     "input": [
      "ls"
     ],
     "language": "python",
     "metadata": {},
     "outputs": [
      {
       "output_type": "stream",
       "stream": "stdout",
       "text": [
        "HARDI193.bval  HARDI193.bvec  \u001b[0m\u001b[01;31mHARDI193.nii.gz\u001b[0m\r\n"
       ]
      }
     ],
     "prompt_number": 4
    },
    {
     "cell_type": "code",
     "collapsed": false,
     "input": [
      "fdwi = 'HARDI193.nii.gz'\n",
      "fbval = 'HARDI193.bval'\n",
      "fbvec = 'HARDI193.bvec'"
     ],
     "language": "python",
     "metadata": {},
     "outputs": [],
     "prompt_number": 6
    },
    {
     "cell_type": "code",
     "collapsed": false,
     "input": [],
     "language": "python",
     "metadata": {},
     "outputs": []
    }
   ],
   "metadata": {}
  }
 ]
}