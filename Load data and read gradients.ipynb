{
 "metadata": {
  "name": "",
  "signature": "sha256:ff8380e73e83744710453bc0038bfa0784060a8a79ccf43443fdb5103a09f0d3"
 },
 "nbformat": 3,
 "nbformat_minor": 0,
 "worksheets": [
  {
   "cells": [
    {
     "cell_type": "heading",
     "level": 1,
     "metadata": {},
     "source": [
      "Load data and read scanner parameters"
     ]
    },
    {
     "cell_type": "raw",
     "metadata": {},
     "source": [
      "In Dipy we provide functions for downloading data and processing data."
     ]
    },
    {
     "cell_type": "code",
     "collapsed": false,
     "input": [
      "from dipy.data import fetch_sherbrooke_3shell\n",
      "fetch_sherbrooke_3shell()"
     ],
     "language": "python",
     "metadata": {},
     "outputs": [
      {
       "output_type": "stream",
       "stream": "stdout",
       "text": [
        "Dataset is already in place. If you want to fetch it again, please first remove the folder /home/eleftherios/.dipy/sherbrooke_3shell \n"
       ]
      }
     ],
     "prompt_number": 1
    },
    {
     "cell_type": "code",
     "collapsed": false,
     "input": [
      "cd /home/eleftherios/.dipy/sherbrooke_3shell/"
     ],
     "language": "python",
     "metadata": {},
     "outputs": [
      {
       "output_type": "stream",
       "stream": "stdout",
       "text": [
        "/home/eleftherios/.dipy/sherbrooke_3shell\n"
       ]
      }
     ],
     "prompt_number": 3
    },
    {
     "cell_type": "code",
     "collapsed": false,
     "input": [
      "fdwi = 'HARDI193.nii.gz'\n",
      "fbval = 'HARDI193.bval'\n",
      "fbvec = 'HARDI193.bvec'"
     ],
     "language": "python",
     "metadata": {},
     "outputs": [],
     "prompt_number": 4
    },
    {
     "cell_type": "raw",
     "metadata": {},
     "source": [
      "We can use ``nibabel`` for loading the data"
     ]
    },
    {
     "cell_type": "code",
     "collapsed": false,
     "input": [
      "import nibabel as nib\n",
      "img = nib.load(fdwi)\n",
      "data = img.get_data()"
     ],
     "language": "python",
     "metadata": {},
     "outputs": [],
     "prompt_number": 5
    },
    {
     "cell_type": "raw",
     "metadata": {},
     "source": [
      "``data`` is a 4D array where the first 3 dimensions are the i, j, k voxel\n",
      "coordinates and the last dimension is the number of non-weighted (S0s) and\n",
      "diffusion-weighted volumes.\n",
      "\n",
      "We can very easily check the size of ``data`` in the following way:"
     ]
    },
    {
     "cell_type": "code",
     "collapsed": false,
     "input": [
      "print(data.shape)"
     ],
     "language": "python",
     "metadata": {},
     "outputs": [
      {
       "output_type": "stream",
       "stream": "stdout",
       "text": [
        "(128, 128, 60, 193)\n"
       ]
      }
     ],
     "prompt_number": 6
    },
    {
     "cell_type": "raw",
     "metadata": {},
     "source": [
      "And check the voxel size of our data too:"
     ]
    },
    {
     "cell_type": "code",
     "collapsed": false,
     "input": [
      "print(img.get_header().get_zooms()[:3])"
     ],
     "language": "python",
     "metadata": {},
     "outputs": [
      {
       "output_type": "stream",
       "stream": "stdout",
       "text": [
        "(2.0, 2.0, 2.0)\n"
       ]
      }
     ],
     "prompt_number": 7
    },
    {
     "cell_type": "raw",
     "metadata": {},
     "source": [
      "We can quickly visualize the results using matplotlib. For example,\n",
      "let's show here the middle axial slices of volume 0 and volume 10."
     ]
    },
    {
     "cell_type": "code",
     "collapsed": false,
     "input": [
      "import matplotlib.pyplot as plt\n",
      "\n",
      "axial_middle = data.shape[2] / 2\n",
      "plt.figure('Showing the datasets')\n",
      "plt.subplot(1, 2, 1).set_axis_off()\n",
      "plt.imshow(data[:, :, axial_middle, 0].T, cmap='gray', origin='lower')\n",
      "plt.subplot(1, 2, 2).set_axis_off()\n",
      "plt.imshow(data[:, :, axial_middle, 10].T, cmap='gray', origin='lower')\n",
      "plt.show()"
     ],
     "language": "python",
     "metadata": {},
     "outputs": [],
     "prompt_number": 8
    },
    {
     "cell_type": "raw",
     "metadata": {},
     "source": [
      "The next step is to load the b-values and b-vectors from the disk using \n",
      "the function ``read_bvals_bvecs``."
     ]
    },
    {
     "cell_type": "code",
     "collapsed": false,
     "input": [
      "from dipy.io import read_bvals_bvecs\n",
      "bvals, bvecs = read_bvals_bvecs(fbval, fbvec)"
     ],
     "language": "python",
     "metadata": {},
     "outputs": [],
     "prompt_number": 9
    },
    {
     "cell_type": "code",
     "collapsed": false,
     "input": [
      "bvals"
     ],
     "language": "python",
     "metadata": {},
     "outputs": [
      {
       "metadata": {},
       "output_type": "pyout",
       "prompt_number": 10,
       "text": [
        "array([    0.,  1000.,  1000.,  1000.,  1000.,  1000.,  1000.,  1000.,\n",
        "        1000.,  1000.,  1000.,  1000.,  1000.,  1000.,  1000.,  1000.,\n",
        "        1000.,  1000.,  1000.,  1000.,  1000.,  1000.,  1000.,  1000.,\n",
        "        1000.,  1000.,  1000.,  1000.,  1000.,  1000.,  1000.,  1000.,\n",
        "        1000.,  1000.,  1000.,  1000.,  1000.,  1000.,  1000.,  1000.,\n",
        "        1000.,  1000.,  1000.,  1000.,  1000.,  1000.,  1000.,  1000.,\n",
        "        1000.,  1000.,  1000.,  1000.,  1000.,  1000.,  1000.,  1000.,\n",
        "        1000.,  1000.,  1000.,  1000.,  1000.,  1000.,  1000.,  1000.,\n",
        "        1000.,  2000.,  2000.,  2000.,  2000.,  2000.,  2000.,  2000.,\n",
        "        2000.,  2000.,  2000.,  2000.,  2000.,  2000.,  2000.,  2000.,\n",
        "        2000.,  2000.,  2000.,  2000.,  2000.,  2000.,  2000.,  2000.,\n",
        "        2000.,  2000.,  2000.,  2000.,  2000.,  2000.,  2000.,  2000.,\n",
        "        2000.,  2000.,  2000.,  2000.,  2000.,  2000.,  2000.,  2000.,\n",
        "        2000.,  2000.,  2000.,  2000.,  2000.,  2000.,  2000.,  2000.,\n",
        "        2000.,  2000.,  2000.,  2000.,  2000.,  2000.,  2000.,  2000.,\n",
        "        2000.,  2000.,  2000.,  2000.,  2000.,  2000.,  2000.,  2000.,\n",
        "        2000.,  3500.,  3500.,  3500.,  3500.,  3500.,  3500.,  3500.,\n",
        "        3500.,  3500.,  3500.,  3500.,  3500.,  3500.,  3500.,  3500.,\n",
        "        3500.,  3500.,  3500.,  3500.,  3500.,  3500.,  3500.,  3500.,\n",
        "        3500.,  3500.,  3500.,  3500.,  3500.,  3500.,  3500.,  3500.,\n",
        "        3500.,  3500.,  3500.,  3500.,  3500.,  3500.,  3500.,  3500.,\n",
        "        3500.,  3500.,  3500.,  3500.,  3500.,  3500.,  3500.,  3500.,\n",
        "        3500.,  3500.,  3500.,  3500.,  3500.,  3500.,  3500.,  3500.,\n",
        "        3500.,  3500.,  3500.,  3500.,  3500.,  3500.,  3500.,  3500.,\n",
        "        3500.])"
       ]
      }
     ],
     "prompt_number": 10
    },
    {
     "cell_type": "code",
     "collapsed": false,
     "input": [],
     "language": "python",
     "metadata": {},
     "outputs": []
    },
    {
     "cell_type": "raw",
     "metadata": {},
     "source": [
      "We use an object called ``GradientTable`` which holds all the acquision \n",
      "specific parameters, e.g. b-values, b-vectors, timings and others. To create this \n",
      "object you can use the function ``gradient_table``."
     ]
    },
    {
     "cell_type": "code",
     "collapsed": false,
     "input": [
      "from dipy.core.gradients import gradient_table\n",
      "gtab = gradient_table(bvals, bvecs)"
     ],
     "language": "python",
     "metadata": {},
     "outputs": [],
     "prompt_number": 11
    },
    {
     "cell_type": "raw",
     "metadata": {},
     "source": [
      "Finally, you can use ``gtab`` (the GradientTable object) to show some information about the\n",
      "acquisition parameters"
     ]
    },
    {
     "cell_type": "code",
     "collapsed": false,
     "input": [
      "print(gtab.info)"
     ],
     "language": "python",
     "metadata": {},
     "outputs": [
      {
       "output_type": "stream",
       "stream": "stdout",
       "text": [
        "B-values shape (193,)\n",
        "         min 0.000000 \n",
        "         max 3500.000000 \n",
        "B-vectors shape (193, 3)\n",
        "         min -0.964050 \n",
        "         max 0.999992 \n",
        "None\n"
       ]
      }
     ],
     "prompt_number": 12
    },
    {
     "cell_type": "raw",
     "metadata": {},
     "source": [
      "``gtab`` has some extra functionality. For exaxmple it can be used to tell what part of the data are the S0 volumes \n",
      "(volumes which correspond to b-values of 0)."
     ]
    },
    {
     "cell_type": "code",
     "collapsed": false,
     "input": [
      "print(gtab.bvals)"
     ],
     "language": "python",
     "metadata": {},
     "outputs": [
      {
       "output_type": "stream",
       "stream": "stdout",
       "text": [
        "[    0.  1000.  1000.  1000.  1000.  1000.  1000.  1000.  1000.  1000.\n",
        "  1000.  1000.  1000.  1000.  1000.  1000.  1000.  1000.  1000.  1000.\n",
        "  1000.  1000.  1000.  1000.  1000.  1000.  1000.  1000.  1000.  1000.\n",
        "  1000.  1000.  1000.  1000.  1000.  1000.  1000.  1000.  1000.  1000.\n",
        "  1000.  1000.  1000.  1000.  1000.  1000.  1000.  1000.  1000.  1000.\n",
        "  1000.  1000.  1000.  1000.  1000.  1000.  1000.  1000.  1000.  1000.\n",
        "  1000.  1000.  1000.  1000.  1000.  2000.  2000.  2000.  2000.  2000.\n",
        "  2000.  2000.  2000.  2000.  2000.  2000.  2000.  2000.  2000.  2000.\n",
        "  2000.  2000.  2000.  2000.  2000.  2000.  2000.  2000.  2000.  2000.\n",
        "  2000.  2000.  2000.  2000.  2000.  2000.  2000.  2000.  2000.  2000.\n",
        "  2000.  2000.  2000.  2000.  2000.  2000.  2000.  2000.  2000.  2000.\n",
        "  2000.  2000.  2000.  2000.  2000.  2000.  2000.  2000.  2000.  2000.\n",
        "  2000.  2000.  2000.  2000.  2000.  2000.  2000.  2000.  2000.  3500.\n",
        "  3500.  3500.  3500.  3500.  3500.  3500.  3500.  3500.  3500.  3500.\n",
        "  3500.  3500.  3500.  3500.  3500.  3500.  3500.  3500.  3500.  3500.\n",
        "  3500.  3500.  3500.  3500.  3500.  3500.  3500.  3500.  3500.  3500.\n",
        "  3500.  3500.  3500.  3500.  3500.  3500.  3500.  3500.  3500.  3500.\n",
        "  3500.  3500.  3500.  3500.  3500.  3500.  3500.  3500.  3500.  3500.\n",
        "  3500.  3500.  3500.  3500.  3500.  3500.  3500.  3500.  3500.  3500.\n",
        "  3500.  3500.  3500.]\n"
       ]
      }
     ],
     "prompt_number": 13
    },
    {
     "cell_type": "code",
     "collapsed": false,
     "input": [
      "gtab.b0s_mask"
     ],
     "language": "python",
     "metadata": {},
     "outputs": [
      {
       "metadata": {},
       "output_type": "pyout",
       "prompt_number": 14,
       "text": [
        "array([ True, False, False, False, False, False, False, False, False,\n",
        "       False, False, False, False, False, False, False, False, False,\n",
        "       False, False, False, False, False, False, False, False, False,\n",
        "       False, False, False, False, False, False, False, False, False,\n",
        "       False, False, False, False, False, False, False, False, False,\n",
        "       False, False, False, False, False, False, False, False, False,\n",
        "       False, False, False, False, False, False, False, False, False,\n",
        "       False, False, False, False, False, False, False, False, False,\n",
        "       False, False, False, False, False, False, False, False, False,\n",
        "       False, False, False, False, False, False, False, False, False,\n",
        "       False, False, False, False, False, False, False, False, False,\n",
        "       False, False, False, False, False, False, False, False, False,\n",
        "       False, False, False, False, False, False, False, False, False,\n",
        "       False, False, False, False, False, False, False, False, False,\n",
        "       False, False, False, False, False, False, False, False, False,\n",
        "       False, False, False, False, False, False, False, False, False,\n",
        "       False, False, False, False, False, False, False, False, False,\n",
        "       False, False, False, False, False, False, False, False, False,\n",
        "       False, False, False, False, False, False, False, False, False,\n",
        "       False, False, False, False, False, False, False, False, False,\n",
        "       False, False, False, False, False, False, False, False, False,\n",
        "       False, False, False, False], dtype=bool)"
       ]
      }
     ],
     "prompt_number": 14
    },
    {
     "cell_type": "code",
     "collapsed": false,
     "input": [
      "S0s = data[:, :, :, gtab.b0s_mask]"
     ],
     "language": "python",
     "metadata": {},
     "outputs": [],
     "prompt_number": 15
    },
    {
     "cell_type": "raw",
     "metadata": {},
     "source": [
      "Here, we had only 1 S0 as we can verify by looking at the dimensions of S0s"
     ]
    },
    {
     "cell_type": "code",
     "collapsed": false,
     "input": [
      "print(S0s.shape)"
     ],
     "language": "python",
     "metadata": {},
     "outputs": [
      {
       "output_type": "stream",
       "stream": "stdout",
       "text": [
        "(128, 128, 60, 1)\n"
       ]
      }
     ],
     "prompt_number": 16
    },
    {
     "cell_type": "raw",
     "metadata": {},
     "source": [
      "Just, for fun let's save this in a new Nifti file."
     ]
    },
    {
     "cell_type": "code",
     "collapsed": false,
     "input": [
      "nib.save(nib.Nifti1Image(S0s, img.get_affine()), 'HARDI193_S0.nii.gz')"
     ],
     "language": "python",
     "metadata": {},
     "outputs": [],
     "prompt_number": 17
    },
    {
     "cell_type": "raw",
     "metadata": {},
     "source": []
    }
   ],
   "metadata": {}
  }
 ]
}