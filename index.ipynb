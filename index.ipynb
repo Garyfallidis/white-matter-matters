{
 "metadata": {
  "kernelspec": {
   "codemirror_mode": {
    "name": "python",
    "version": 2
   },
   "display_name": "Python 2",
   "language": "python",
   "name": "python2"
  },
  "name": "",
  "signature": "sha256:4f4ac70386bdbac200b6743ab13c96e45b9277d35e44668c507001444fbac198"
 },
 "nbformat": 3,
 "nbformat_minor": 0,
 "worksheets": [
  {
   "cells": [
    {
     "cell_type": "markdown",
     "metadata": {},
     "source": [
      "# Introduction to diffusion MRI\n",
      "\n",
      "This series of notebooks introduces the principles of the measurement and analysis of diffusion MRI (dMRI, or DWI) data. \n",
      "\n"
     ]
    },
    {
     "cell_type": "markdown",
     "metadata": {},
     "source": [
      "1. [Downloading data](download-data.ipynb): How is the signal generated?\n",
      "1. [Principles of signal formation](signal-formation.ipynb): How is the signal generated?\n",
      "1. [dMRI signals](dMRI-signals.ipynb): The measurement in different directions\n",
      "1. [Modeling diffusion I](DTI.ipynb): The diffusion tensor model (DTM)\n",
      "1. [Modeling diffusion II](SFM.ipynb): Sparse fascicle models (SFM)\n",
      "1. [Tractography I](det_track.ipynb): Deterministic streamline tracing\n",
      "1. [Tractography II](prob_track.ipynb): Probabilistic tracking."
     ]
    },
    {
     "cell_type": "code",
     "collapsed": false,
     "input": [],
     "language": "python",
     "metadata": {},
     "outputs": []
    }
   ],
   "metadata": {}
  }
 ]
}