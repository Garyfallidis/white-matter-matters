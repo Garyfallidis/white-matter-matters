{
 "metadata": {
  "kernelspec": {
   "codemirror_mode": {
    "name": "python",
    "version": 2
   },
   "display_name": "Python 2",
   "language": "python",
   "name": "python2"
  },
  "name": "",
  "signature": "sha256:8ce9aec793ec7d1bed082cbf19a5f0debe286eb6287be690d419d2eb17592b86"
 },
 "nbformat": 3,
 "nbformat_minor": 0,
 "worksheets": [
  {
   "cells": [
    {
     "cell_type": "markdown",
     "metadata": {},
     "source": [
      "# Introduction to diffusion MRI\n",
      "\n",
      "This series of notebooks introduces the principles of the measurement and analysis of diffusion MRI (dMRI, or DWI) data. \n",
      "\n"
     ]
    },
    {
     "cell_type": "markdown",
     "metadata": {},
     "source": [
      "## Getting started: \n",
      "\n",
      "To properly run the notebooks in this \n"
     ]
    },
    {
     "cell_type": "markdown",
     "metadata": {},
     "source": [
      "1. [Getting started with these notebooks](instructions.ipynb): First few steps.\n",
      "1. [Downloading data](download-data.ipynb).\n",
      "1. [Principles of signal formation](signal-formation.ipynb): How is the signal generated?\n",
      "1. [dMRI signals](dMRI-signals.ipynb): The measurement in different directions.\n",
      "1. [Modeling diffusion I](DTI.ipynb): The diffusion tensor model (DTM).\n",
      "1. [Modeling diffusion II](SFM.ipynb): Sparse fascicle models (SFM).\n",
      "1. [Tractography I](det_track.ipynb): Deterministic streamline tracking.\n",
      "1. [Tractography II](prob_track.ipynb): Probabilistic tracking.\n",
      "1. [Track evaluation](track_evaluation.ipynb): LiFE. "
     ]
    },
    {
     "cell_type": "code",
     "collapsed": false,
     "input": [],
     "language": "python",
     "metadata": {},
     "outputs": []
    }
   ],
   "metadata": {}
  }
 ]
}